{
 "cells": [
  {
   "cell_type": "code",
   "execution_count": 4,
   "metadata": {},
   "outputs": [
    {
     "data": {
      "image/png": "[encoded data removed]",
      "text/plain": [
       "<matplotlib.figure.Figure at 0x1d16bdbf438>"
      ]
     },
     "metadata": {},
     "output_type": "display_data"
    }
   ],
   "source": [
    "import numpy\n",
    "import matplotlib.pyplot as plt\n",
    "\n",
    "\n",
    "def matrix_factorization(R, P, Q, K, V, iterations=30, lr=0.02, beta=0.1):\n",
    "    Q = Q.T\n",
    "    N = R.shape[0]\n",
    "    M = R.shape[1]\n",
    "    Tloss = numpy.zeros(iterations)\n",
    "    Vloss = numpy.zeros(iterations)\n",
    "    for step in range(iterations):\n",
    "        for i in range(N):\n",
    "            for j in range(M):\n",
    "                if R[i][j] > 0:\n",
    "                    eij = R[i][j] - numpy.dot(P[i,:],Q[:,j])\n",
    "                    for k in range(K):\n",
    "                        P[i][k] = P[i][k] + lr * (2 * eij * Q[k][j] - beta * P[i][k]) #调整用户因子矩阵\n",
    "                        Q[k][j] = Q[k][j] + lr * (2 * eij * P[i][k] - beta * Q[k][j]) #调整物品因子矩阵\n",
    "        eR = numpy.dot(P,Q)\n",
    "        #计算迭代后Loss\n",
    "        e = 0\n",
    "        for i in range(N):\n",
    "            for j in range(M):\n",
    "                if R[i][j] > 0:\n",
    "                    e = e + pow(R[i][j] - numpy.dot(P[i,:],Q[:,j]), 2)\n",
    "                    for k in range(K):\n",
    "                        e = e + (beta/2) * ( pow(P[i][k],2) + pow(Q[k][j],2) )\n",
    "        #计算validation集上的Loss\n",
    "        v = 0\n",
    "        for i in range(N):\n",
    "            for j in range(M):\n",
    "                if V[i][j] > 0:\n",
    "                    v = v + pow(V[i][j] - numpy.dot(P[i, :], Q[:, j]), 2)\n",
    "                    for k in range(K):\n",
    "                        v = v + (beta / 2) * (pow(P[i][k], 2) + pow(Q[k][j], 2))\n",
    "        Tloss[step] = e\n",
    "        Vloss[step] = v\n",
    "    return P, Q.T, Tloss, Vloss\n",
    "\n",
    "#  lr:学习率\n",
    "#  beta:正则项权重\n",
    "#  iterations:迭代次数\n",
    "lr = 0.005\n",
    "beta = 0.1\n",
    "iterations = 50\n",
    "\n",
    "#从文件读取数据集，包括已划分好的训练集，验证集\n",
    "def readData(filename):\n",
    "    file = open(filename)\n",
    "    array_of_lines = file.readlines()\n",
    "    data = numpy.zeros((948,1682))\n",
    "    for line in array_of_lines:\n",
    "        line=line.strip()\n",
    "        list=line.split('\\t')\n",
    "        user = eval(list[0])-1\n",
    "        item = eval(list[1])-1\n",
    "        rating = eval(list[2])\n",
    "        data[user][item] = rating\n",
    "    return data\n",
    "\n",
    "if __name__ == \"__main__\":\n",
    "\n",
    "    R = readData('u1.base')\n",
    "    V = readData('u1.test')\n",
    "    N = R.shape[0]\n",
    "    M = R.shape[1]\n",
    "    K = 5\n",
    "\n",
    "    P = numpy.random.rand(N,K)\n",
    "    Q = numpy.random.rand(M,K)\n",
    "\n",
    "    nP, nQ, Tloss, Vloss = matrix_factorization(R, P, Q, K, V, iterations, lr, beta)\n",
    "\n",
    "    nQ = nQ.T\n",
    "\n",
    "#将P，Q转置相乘，得到预测矩阵\n",
    "    rate = numpy.zeros((N,M))\n",
    "    for i in range(N):\n",
    "        for j in range(M):\n",
    "            rate[i][j] = numpy.dot(nP[i,:],nQ[:,j])\n",
    "           \n",
    "    plt.plot(numpy.arange(iterations), Tloss, label='Trainging Loss', color='b')\n",
    "    plt.plot(numpy.arange(iterations), Vloss, label='Validation', color='r')\n",
    "    plt.show()"
   ]
  },
  {
   "cell_type": "code",
   "execution_count": null,
   "metadata": {
    "collapsed": true
   },
   "outputs": [],
   "source": []
  }
 ],
 "metadata": {
  "kernelspec": {
   "display_name": "Python 3",
   "language": "python",
   "name": "python3"
  },
  "language_info": {
   "codemirror_mode": {
    "name": "ipython",
    "version": 3
   },
   "file_extension": ".py",
   "mimetype": "text/x-python",
   "name": "python",
   "nbconvert_exporter": "python",
   "pygments_lexer": "ipython3",
   "version": "3.6.3"
  }
 },
 "nbformat": 4,
 "nbformat_minor": 2
}
